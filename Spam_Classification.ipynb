{
  "nbformat": 4,
  "nbformat_minor": 0,
  "metadata": {
    "colab": {
      "provenance": [],
      "authorship_tag": "ABX9TyPkFwyhhy72cFRUS+yCinXy",
      "include_colab_link": true
    },
    "kernelspec": {
      "name": "python3",
      "display_name": "Python 3"
    },
    "language_info": {
      "name": "python"
    }
  },
  "cells": [
    {
      "cell_type": "markdown",
      "metadata": {
        "id": "view-in-github",
        "colab_type": "text"
      },
      "source": [
        "<a href=\"https://colab.research.google.com/github/NakulChauhan13/Nakul_RL/blob/main/Spam_Classification.ipynb\" target=\"_parent\"><img src=\"https://colab.research.google.com/assets/colab-badge.svg\" alt=\"Open In Colab\"/></a>"
      ]
    },
    {
      "cell_type": "code",
      "execution_count": null,
      "metadata": {
        "colab": {
          "base_uri": "https://localhost:8080/"
        },
        "id": "vvycPZvSja9_",
        "outputId": "fb64e8c9-46ae-4d8f-8b1b-b640abcea9bf"
      },
      "outputs": [
        {
          "metadata": {
            "tags": null
          },
          "name": "stderr",
          "output_type": "stream",
          "text": [
            "[nltk_data] Downloading package stopwords to /root/nltk_data...\n",
            "[nltk_data]   Unzipping corpora/stopwords.zip.\n",
            "[nltk_data] Downloading package wordnet to /root/nltk_data...\n"
          ]
        },
        {
          "metadata": {
            "tags": null
          },
          "name": "stdout",
          "output_type": "stream",
          "text": [
            "Epoch 1/15\n"
          ]
        },
        {
          "metadata": {
            "tags": null
          },
          "name": "stderr",
          "output_type": "stream",
          "text": [
            "/usr/local/lib/python3.10/dist-packages/keras/src/layers/core/embedding.py:90: UserWarning: Argument `input_length` is deprecated. Just remove it.\n",
            "  warnings.warn(\n"
          ]
        },
        {
          "metadata": {
            "tags": null
          },
          "name": "stdout",
          "output_type": "stream",
          "text": [
            "\u001b[1m279/279\u001b[0m \u001b[32m━━━━━━━━━━━━━━━━━━━━\u001b[0m\u001b[37m\u001b[0m \u001b[1m13s\u001b[0m 26ms/step - accuracy: 0.8959 - loss: 0.2929 - val_accuracy: 0.9865 - val_loss: 0.0516\n",
            "Epoch 2/15\n",
            "\u001b[1m279/279\u001b[0m \u001b[32m━━━━━━━━━━━━━━━━━━━━\u001b[0m\u001b[37m\u001b[0m \u001b[1m11s\u001b[0m 28ms/step - accuracy: 0.9871 - loss: 0.0502 - val_accuracy: 0.9812 - val_loss: 0.0542\n",
            "Epoch 3/15\n",
            "\u001b[1m279/279\u001b[0m \u001b[32m━━━━━━━━━━━━━━━━━━━━\u001b[0m\u001b[37m\u001b[0m \u001b[1m8s\u001b[0m 27ms/step - accuracy: 0.9948 - loss: 0.0242 - val_accuracy: 0.9812 - val_loss: 0.0664\n",
            "Epoch 4/15\n",
            "\u001b[1m279/279\u001b[0m \u001b[32m━━━━━━━━━━━━━━━━━━━━\u001b[0m\u001b[37m\u001b[0m \u001b[1m7s\u001b[0m 25ms/step - accuracy: 0.9966 - loss: 0.0195 - val_accuracy: 0.9848 - val_loss: 0.0603\n",
            "Epoch 5/15\n",
            "\u001b[1m279/279\u001b[0m \u001b[32m━━━━━━━━━━━━━━━━━━━━\u001b[0m\u001b[37m\u001b[0m \u001b[1m8s\u001b[0m 30ms/step - accuracy: 0.9937 - loss: 0.0166 - val_accuracy: 0.9848 - val_loss: 0.0641\n",
            "Epoch 6/15\n",
            "\u001b[1m279/279\u001b[0m \u001b[32m━━━━━━━━━━━━━━━━━━━━\u001b[0m\u001b[37m\u001b[0m \u001b[1m9s\u001b[0m 25ms/step - accuracy: 0.9981 - loss: 0.0064 - val_accuracy: 0.9839 - val_loss: 0.0609\n",
            "Epoch 7/15\n",
            "\u001b[1m279/279\u001b[0m \u001b[32m━━━━━━━━━━━━━━━━━━━━\u001b[0m\u001b[37m\u001b[0m \u001b[1m8s\u001b[0m 30ms/step - accuracy: 0.9960 - loss: 0.0143 - val_accuracy: 0.9803 - val_loss: 0.0717\n",
            "Epoch 8/15\n",
            "\u001b[1m279/279\u001b[0m \u001b[32m━━━━━━━━━━━━━━━━━━━━\u001b[0m\u001b[37m\u001b[0m \u001b[1m7s\u001b[0m 23ms/step - accuracy: 0.9986 - loss: 0.0064 - val_accuracy: 0.9758 - val_loss: 0.0840\n",
            "Epoch 9/15\n",
            "\u001b[1m279/279\u001b[0m \u001b[32m━━━━━━━━━━━━━━━━━━━━\u001b[0m\u001b[37m\u001b[0m \u001b[1m8s\u001b[0m 30ms/step - accuracy: 0.9987 - loss: 0.0056 - val_accuracy: 0.9767 - val_loss: 0.0910\n",
            "Epoch 10/15\n",
            "\u001b[1m279/279\u001b[0m \u001b[32m━━━━━━━━━━━━━━━━━━━━\u001b[0m\u001b[37m\u001b[0m \u001b[1m11s\u001b[0m 31ms/step - accuracy: 0.9997 - loss: 0.0031 - val_accuracy: 0.9767 - val_loss: 0.0787\n",
            "Epoch 11/15\n",
            "\u001b[1m279/279\u001b[0m \u001b[32m━━━━━━━━━━━━━━━━━━━━\u001b[0m\u001b[37m\u001b[0m \u001b[1m6s\u001b[0m 23ms/step - accuracy: 0.9994 - loss: 0.0034 - val_accuracy: 0.9821 - val_loss: 0.1025\n",
            "Epoch 12/15\n",
            "\u001b[1m279/279\u001b[0m \u001b[32m━━━━━━━━━━━━━━━━━━━━\u001b[0m\u001b[37m\u001b[0m \u001b[1m12s\u001b[0m 30ms/step - accuracy: 0.9991 - loss: 0.0042 - val_accuracy: 0.9821 - val_loss: 0.0804\n",
            "Epoch 13/15\n",
            "\u001b[1m279/279\u001b[0m \u001b[32m━━━━━━━━━━━━━━━━━━━━\u001b[0m\u001b[37m\u001b[0m \u001b[1m10s\u001b[0m 30ms/step - accuracy: 0.9995 - loss: 0.0018 - val_accuracy: 0.9821 - val_loss: 0.0875\n",
            "Epoch 14/15\n",
            "\u001b[1m279/279\u001b[0m \u001b[32m━━━━━━━━━━━━━━━━━━━━\u001b[0m\u001b[37m\u001b[0m \u001b[1m8s\u001b[0m 24ms/step - accuracy: 0.9982 - loss: 0.0048 - val_accuracy: 0.9812 - val_loss: 0.1036\n",
            "Epoch 15/15\n",
            "\u001b[1m279/279\u001b[0m \u001b[32m━━━━━━━━━━━━━━━━━━━━\u001b[0m\u001b[37m\u001b[0m \u001b[1m10s\u001b[0m 23ms/step - accuracy: 0.9997 - loss: 0.0029 - val_accuracy: 0.9803 - val_loss: 0.1053\n",
            "\u001b[1m35/35\u001b[0m \u001b[32m━━━━━━━━━━━━━━━━━━━━\u001b[0m\u001b[37m\u001b[0m \u001b[1m1s\u001b[0m 27ms/step\n",
            "              precision    recall  f1-score   support\n",
            "\n",
            "    Not Spam       0.98      0.99      0.99       954\n",
            "        Spam       0.95      0.91      0.93       161\n",
            "\n",
            "    accuracy                           0.98      1115\n",
            "   macro avg       0.97      0.95      0.96      1115\n",
            "weighted avg       0.98      0.98      0.98      1115\n",
            "\n",
            "\u001b[1m1/1\u001b[0m \u001b[32m━━━━━━━━━━━━━━━━━━━━\u001b[0m\u001b[37m\u001b[0m \u001b[1m0s\u001b[0m 31ms/step\n",
            "Prediction: Not Spam\n"
          ]
        }
      ],
      "source": [
        "import numpy as np\n",
        "import pandas as pd\n",
        "from tensorflow.keras.preprocessing.text import Tokenizer\n",
        "from tensorflow.keras.preprocessing.sequence import pad_sequences\n",
        "from tensorflow.keras.models import Sequential\n",
        "from tensorflow.keras.layers import Embedding, LSTM, Bidirectional, Dense, SpatialDropout1D, Dropout\n",
        "from sklearn.model_selection import train_test_split\n",
        "from sklearn.metrics import classification_report\n",
        "\n",
        "# Step 1: Load or Prepare the Dataset\n",
        "# Load the dataset from an Excel file\n",
        "# Replace 'spam_dataset.xlsx' with your actual file name\n",
        "df = pd.read_excel(\"data_spam_project.xlsx\")\n",
        "\n",
        "# Ensure the dataset has the correct columns (Column 1: label, Column 2: text)\n",
        "df = df.rename(columns={df.columns[0]: \"label\", df.columns[1]: \"text\"})\n",
        "\n",
        "# Convert label to binary (e.g., 'spam' -> 1, 'ham' -> 0)\n",
        "df[\"label\"] = df[\"label\"].map({\"spam\": 1, \"ham\": 0})\n",
        "\n",
        "# Convert text column to string type\n",
        "df[\"text\"] = df[\"text\"].astype(str)\n",
        "\n",
        "# Step 2: Text Preprocessing\n",
        "import re\n",
        "from nltk.corpus import stopwords\n",
        "from nltk.stem import WordNetLemmatizer\n",
        "import nltk\n",
        "nltk.download('stopwords')\n",
        "nltk.download('wordnet')\n",
        "\n",
        "stop_words = set(stopwords.words('english'))\n",
        "lemmatizer = WordNetLemmatizer()\n",
        "\n",
        "def preprocess_text(text):\n",
        "    # Convert to lowercase\n",
        "    text = text.lower()\n",
        "    # Remove punctuation and special characters\n",
        "    text = re.sub(r'[^a-zA-Z\\s]', '', text)\n",
        "    # Tokenize and remove stopwords\n",
        "    words = text.split()\n",
        "    words = [word for word in words if word not in stop_words]\n",
        "    # Lemmatize words\n",
        "    words = [lemmatizer.lemmatize(word) for word in words]\n",
        "    return ' '.join(words)\n",
        "\n",
        "df[\"cleaned_text\"] = df[\"text\"].apply(preprocess_text)\n",
        "\n",
        "# Step 3: Tokenization and Padding\n",
        "MAX_VOCAB_SIZE = 5000\n",
        "MAX_SEQUENCE_LENGTH = 20\n",
        "\n",
        "# Initialize Tokenizer\n",
        "tokenizer = Tokenizer(num_words=MAX_VOCAB_SIZE)\n",
        "tokenizer.fit_on_texts(df[\"cleaned_text\"])\n",
        "\n",
        "# Convert text to sequences\n",
        "sequences = tokenizer.texts_to_sequences(df[\"cleaned_text\"])\n",
        "padded_sequences = pad_sequences(sequences, maxlen=MAX_SEQUENCE_LENGTH)\n",
        "\n",
        "# Step 4: Split the Data\n",
        "X_train, X_test, y_train, y_test = train_test_split(padded_sequences, df[\"label\"], test_size=0.2, random_state=42)\n",
        "\n",
        "# Step 5: Build the Enhanced LSTM Model\n",
        "EMBEDDING_DIM = 50\n",
        "\n",
        "model = Sequential([\n",
        "    Embedding(input_dim=MAX_VOCAB_SIZE, output_dim=EMBEDDING_DIM, input_length=MAX_SEQUENCE_LENGTH),\n",
        "    SpatialDropout1D(0.3),\n",
        "    Bidirectional(LSTM(64, dropout=0.3, recurrent_dropout=0.3)),\n",
        "    Dense(64, activation=\"relu\"),\n",
        "    Dropout(0.4),\n",
        "    Dense(1, activation=\"sigmoid\"),\n",
        "])\n",
        "\n",
        "model.compile(optimizer=\"adam\", loss=\"binary_crossentropy\", metrics=[\"accuracy\"])\n",
        "\n",
        "# Step 6: Train the Model\n",
        "model.fit(X_train, y_train, epochs=15, batch_size=16, validation_data=(X_test, y_test), verbose=1)\n",
        "\n",
        "# Step 7: Evaluate the Model\n",
        "y_pred = (model.predict(X_test) > 0.5).astype(int)\n",
        "print(classification_report(y_test, y_pred, target_names=[\"Not Spam\", \"Spam\"]))\n",
        "\n",
        "# Step 8: Predict on User Input\n",
        "while True:\n",
        "    user_input = input(\"Enter the message to check whether it is spam or not (or type 'exit' to quit): \")\n",
        "    if user_input.lower() == 'exit':\n",
        "        print(\"Exiting the spam classification system.\")\n",
        "        break\n",
        "\n",
        "    # Preprocess the input\n",
        "    user_input_cleaned = preprocess_text(user_input)\n",
        "    user_input_sequence = tokenizer.texts_to_sequences([user_input_cleaned])\n",
        "    user_input_padded = pad_sequences(user_input_sequence, maxlen=MAX_SEQUENCE_LENGTH)\n",
        "\n",
        "    # Predict\n",
        "    prediction = model.predict(user_input_padded)\n",
        "    label = (prediction > 0.5).astype(int)  # 1 = Spam, 0 = Not Spam\n",
        "\n",
        "    print(f\"Prediction: {'Spam' if label[0][0] == 1 else 'Not Spam'}\")"
      ]
    },
    {
      "cell_type": "code",
      "source": [],
      "metadata": {
        "id": "psC32cdejvY4"
      },
      "execution_count": null,
      "outputs": []
    }
  ]
}